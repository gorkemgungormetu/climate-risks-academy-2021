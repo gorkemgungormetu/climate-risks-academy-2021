{
 "cells": [
  {
   "cell_type": "markdown",
   "metadata": {},
   "source": [
    "# 0. Retrieve data from the NGFS Scenario Explorer\n",
    "\n",
    "There are two options to retrieve data from the NGFS scenario ensemble (Phase 2):\n",
    "\n",
    "1. By downloading the data from the Downloads section of the web user interface, or\n",
    "2. By using the pyam module to query the NGFS database directly via a public API\n",
    "\n",
    "This notebook implements option 2 and saves the data as `ngfs_data_raw.csv` in the `data` folder."
   ]
  },
  {
   "cell_type": "code",
   "execution_count": 1,
   "metadata": {},
   "outputs": [
    {
     "data": {
      "application/javascript": [
       "if (typeof IPython !== 'undefined') { IPython.OutputArea.prototype._should_scroll = function(lines){ return false; }}"
      ],
      "text/plain": [
       "<IPython.core.display.Javascript object>"
      ]
     },
     "metadata": {},
     "output_type": "display_data"
    }
   ],
   "source": [
    "import pyam"
   ]
  },
  {
   "cell_type": "markdown",
   "metadata": {},
   "source": [
    "## Investigate the scenario ensemble structure available in the NGFS Scenario Explorer"
   ]
  },
  {
   "cell_type": "code",
   "execution_count": 2,
   "metadata": {},
   "outputs": [
    {
     "name": "stderr",
     "output_type": "stream",
     "text": [
      "pyam - INFO: Running in a notebook, setting up a basic logging at level INFO\n",
      "pyam.iiasa - INFO: You are connected to the IXSE_NGFS scenario explorer hosted by IIASA. If you use this data in any published format, please cite the data as provided in the explorer guidelines: https://data.ece.iiasa.ac.at/ngfs-phase-2/#/about\n",
      "pyam.iiasa - INFO: You are connected as an anonymous user\n"
     ]
    }
   ],
   "source": [
    "ngfs_db = pyam.iiasa.Connection(\"ngfs\")"
   ]
  },
  {
   "cell_type": "code",
   "execution_count": 3,
   "metadata": {},
   "outputs": [
    {
     "data": {
      "text/plain": [
       "0                                                  World\n",
       "1             OECD90 and EU (and EU candidate) countries\n",
       "2      Countries from the Reforming Ecomonies of the ...\n",
       "3                           Asian countries except Japan\n",
       "4                Countries of the Middle East and Africa\n",
       "                             ...                        \n",
       "395                              NiGEM NGFS v1.21|Sweden\n",
       "396                         NiGEM NGFS v1.21|Switzerland\n",
       "397                              NiGEM NGFS v1.21|Taiwan\n",
       "398                              NiGEM NGFS v1.21|Turkey\n",
       "399                            NiGEM NGFS v1.21|Viet Nam\n",
       "Name: region, Length: 400, dtype: object"
      ]
     },
     "execution_count": 3,
     "metadata": {},
     "output_type": "execute_result"
    }
   ],
   "source": [
    "ngfs_db.regions()"
   ]
  },
  {
   "cell_type": "code",
   "execution_count": 4,
   "metadata": {},
   "outputs": [
    {
     "data": {
      "text/plain": [
       "0                                  Agricultural Demand\n",
       "1                            Agricultural Demand|Crops\n",
       "2                     Agricultural Demand|Crops|Energy\n",
       "3      Agricultural Demand|Crops|Energy|1st generation\n",
       "4      Agricultural Demand|Crops|Energy|2nd generation\n",
       "                            ...                       \n",
       "975                       Water Consumption|Irrigation\n",
       "976                        Water Withdrawal|Irrigation\n",
       "977                                       Yield|Cereal\n",
       "978                                     Yield|Oilcrops\n",
       "979                                   Yield|Sugarcrops\n",
       "Name: variable, Length: 980, dtype: object"
      ]
     },
     "execution_count": 4,
     "metadata": {},
     "output_type": "execute_result"
    }
   ],
   "source": [
    "ngfs_db.variables()"
   ]
  },
  {
   "cell_type": "markdown",
   "metadata": {},
   "source": [
    "## Downselect to a few variables and regions of interest\n",
    "\n",
    "For this assignment, it is sufficient to use only a few regions (R5) and selected variables."
   ]
  },
  {
   "cell_type": "code",
   "execution_count": 5,
   "metadata": {},
   "outputs": [],
   "source": [
    "regions = [\n",
    "    'World',\n",
    "    'OECD90 and EU (and EU candidate) countries',\n",
    "    'Countries from the Reforming Ecomonies of the Former Soviet Union',\n",
    "    'Asian countries except Japan',\n",
    "    'Countries of the Middle East and Africa',\n",
    "    'Latin American countries',\n",
    "]"
   ]
  },
  {
   "cell_type": "code",
   "execution_count": 6,
   "metadata": {},
   "outputs": [],
   "source": [
    "variables = [\n",
    "    'Price|Carbon',\n",
    "    'GDP|PPP',\n",
    "    'Population',\n",
    "    'Primary Energy|*',\n",
    "    'Secondary Energy|*',\n",
    "    'Final Energy*',\n",
    "    'Emissions|CO2',\n",
    "    'Emissions|CO2|AFOLU',\n",
    "    'Emissions|CO2|Energy and Industrial Processes',\n",
    "    'Diagnostics|Temperature|Global Mean|MAGICC6|Expected value',\n",
    "]"
   ]
  },
  {
   "cell_type": "markdown",
   "metadata": {},
   "source": [
    "### Option 1: Retrieve from public database \n",
    "\n",
    "<div class=\"alert alert-warning\">\n",
    "\n",
    "This may take a while depending on your Internet speed.\n",
    "\n",
    "</div>"
   ]
  },
  {
   "cell_type": "code",
   "execution_count": null,
   "metadata": {},
   "outputs": [
    {
     "name": "stderr",
     "output_type": "stream",
     "text": [
      "C:\\Users\\ggungor\\Anaconda3\\envs\\message_env\\lib\\site-packages\\pyam\\iiasa.py:271: FutureWarning: The default dtype for empty Series will be 'object' instead of 'float64' in a future version. Specify a dtype explicitly to silence this warning.\n",
      "  pd.concat([row[META_IDX + cols], pd.Series(row.metadata)])\n",
      "C:\\Users\\ggungor\\Anaconda3\\envs\\message_env\\lib\\site-packages\\pyam\\iiasa.py:271: FutureWarning: The default dtype for empty Series will be 'object' instead of 'float64' in a future version. Specify a dtype explicitly to silence this warning.\n",
      "  pd.concat([row[META_IDX + cols], pd.Series(row.metadata)])\n",
      "C:\\Users\\ggungor\\Anaconda3\\envs\\message_env\\lib\\site-packages\\pyam\\iiasa.py:271: FutureWarning: The default dtype for empty Series will be 'object' instead of 'float64' in a future version. Specify a dtype explicitly to silence this warning.\n",
      "  pd.concat([row[META_IDX + cols], pd.Series(row.metadata)])\n",
      "C:\\Users\\ggungor\\Anaconda3\\envs\\message_env\\lib\\site-packages\\pyam\\iiasa.py:271: FutureWarning: The default dtype for empty Series will be 'object' instead of 'float64' in a future version. Specify a dtype explicitly to silence this warning.\n",
      "  pd.concat([row[META_IDX + cols], pd.Series(row.metadata)])\n",
      "C:\\Users\\ggungor\\Anaconda3\\envs\\message_env\\lib\\site-packages\\pyam\\iiasa.py:271: FutureWarning: The default dtype for empty Series will be 'object' instead of 'float64' in a future version. Specify a dtype explicitly to silence this warning.\n",
      "  pd.concat([row[META_IDX + cols], pd.Series(row.metadata)])\n",
      "C:\\Users\\ggungor\\Anaconda3\\envs\\message_env\\lib\\site-packages\\pyam\\iiasa.py:271: FutureWarning: The default dtype for empty Series will be 'object' instead of 'float64' in a future version. Specify a dtype explicitly to silence this warning.\n",
      "  pd.concat([row[META_IDX + cols], pd.Series(row.metadata)])\n",
      "C:\\Users\\ggungor\\Anaconda3\\envs\\message_env\\lib\\site-packages\\pyam\\iiasa.py:271: FutureWarning: The default dtype for empty Series will be 'object' instead of 'float64' in a future version. Specify a dtype explicitly to silence this warning.\n",
      "  pd.concat([row[META_IDX + cols], pd.Series(row.metadata)])\n",
      "C:\\Users\\ggungor\\Anaconda3\\envs\\message_env\\lib\\site-packages\\pyam\\iiasa.py:271: FutureWarning: The default dtype for empty Series will be 'object' instead of 'float64' in a future version. Specify a dtype explicitly to silence this warning.\n",
      "  pd.concat([row[META_IDX + cols], pd.Series(row.metadata)])\n",
      "C:\\Users\\ggungor\\Anaconda3\\envs\\message_env\\lib\\site-packages\\pyam\\iiasa.py:271: FutureWarning: The default dtype for empty Series will be 'object' instead of 'float64' in a future version. Specify a dtype explicitly to silence this warning.\n",
      "  pd.concat([row[META_IDX + cols], pd.Series(row.metadata)])\n"
     ]
    }
   ],
   "source": [
    "df = ngfs_db.query(regions=regions, variables=variables)\n",
    "df"
   ]
  },
  {
   "cell_type": "markdown",
   "metadata": {},
   "source": [
    "### Option 2: Download via the web user interface"
   ]
  },
  {
   "cell_type": "code",
   "execution_count": null,
   "metadata": {},
   "outputs": [],
   "source": [
    "df_raw = pyam.IamDataFrame(\"data/NGFS Scenario Data IAM outputs V2.1.csv\")"
   ]
  },
  {
   "cell_type": "code",
   "execution_count": null,
   "metadata": {},
   "outputs": [],
   "source": [
    "df = df_raw.filter(region=[\"World\", \"R5*\"], variable=variables)\n",
    "df"
   ]
  },
  {
   "cell_type": "markdown",
   "metadata": {},
   "source": [
    "## Export retrieved data to file"
   ]
  },
  {
   "cell_type": "code",
   "execution_count": null,
   "metadata": {},
   "outputs": [],
   "source": [
    "df.to_csv(\"data/ngfs_data_snapshot.csv\")"
   ]
  },
  {
   "cell_type": "code",
   "execution_count": null,
   "metadata": {},
   "outputs": [],
   "source": []
  }
 ],
 "metadata": {
  "kernelspec": {
   "display_name": "Python 3 (ipykernel)",
   "language": "python",
   "name": "python3"
  },
  "language_info": {
   "codemirror_mode": {
    "name": "ipython",
    "version": 3
   },
   "file_extension": ".py",
   "mimetype": "text/x-python",
   "name": "python",
   "nbconvert_exporter": "python",
   "pygments_lexer": "ipython3",
   "version": "3.9.10"
  }
 },
 "nbformat": 4,
 "nbformat_minor": 4
}
